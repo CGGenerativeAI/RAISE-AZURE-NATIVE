{
 "cells": [
  {
   "cell_type": "code",
   "execution_count": null,
   "metadata": {},
   "outputs": [],
   "source": [
    "pip install azure-ai-ml\n",
    "pip install mlflow\n"
   ]
  },
  {
   "cell_type": "code",
   "execution_count": null,
   "metadata": {},
   "outputs": [],
   "source": [
    "import mlflow\n",
    "from azure.ai.ml import MLClient\n",
    "from azure.identity import DefaultAzureCredential\n",
    "from azure.ai.ml.entities import Model\n",
    "\n",
    "# Set up your Azure ML client\n",
    "credential = DefaultAzureCredential()\n",
    "ml_client = MLClient(\n",
    "    credential, \n",
    "    subscription_id=\"262a3c1d-7fe3-4bfb-9f90-7a5b89109336\".\n",
    "    resource_group_name=\"CoreInvest_2023-POC\",\n",
    "    workspace_name=\"SSExperiments\"\n",
    ")\n",
    "\n",
    "# Register the model in Azure ML\n",
    "mlflow_model_uri = \"runs:/<run-id>/model\"  # Example for MLflow model URI\n",
    "ml_model = Model(name=\"my_model\", path=mlflow_model_uri, description=\"MLflow model\")\n",
    "\n",
    "ml_client.models.create_or_update(ml_model)\n"
   ]
  },
  {
   "cell_type": "code",
   "execution_count": null,
   "metadata": {},
   "outputs": [],
   "source": [
    "from azure.ai.ml.entities import ManagedOnlineEndpoint, ManagedOnlineDeployment\n",
    "\n",
    "# Define endpoint details\n",
    "endpoint_name = \"mlflow-model-endpoint\"\n",
    "endpoint = ManagedOnlineEndpoint(name=endpoint_name)\n",
    "\n",
    "# Create the endpoint\n",
    "ml_client.online_endpoints.create_or_update(endpoint)\n",
    "\n",
    "# Define deployment details\n",
    "deployment_name = \"mlflow-deployment\"\n",
    "deployment = ManagedOnlineDeployment(\n",
    "    name=deployment_name,\n",
    "    endpoint_name=endpoint_name,\n",
    "    model=\"my_model:1\",  # Replace with your model name and version\n",
    "    instance_type=\"Standard_DS3_v2\",  # Choose the appropriate instance type\n",
    "    instance_count=1\n",
    ")\n",
    "\n",
    "# Create deployment\n",
    "ml_client.online_deployments.create_or_update(deployment)\n",
    "\n",
    "# Update endpoint traffic to route to this deployment\n",
    "endpoint.traffic = {deployment_name: 100}\n",
    "ml_client.online_endpoints.create_or_update(endpoint)\n"
   ]
  },
  {
   "cell_type": "code",
   "execution_count": null,
   "metadata": {},
   "outputs": [],
   "source": [
    "from azure.ai.ml import MLClient\n",
    "from azure.identity import DefaultAzureCredential\n",
    "\n",
    "# Set up the client and test the endpoint\n",
    "ml_client = MLClient(\n",
    "    credential=DefaultAzureCredential(), \n",
    "    subscription_id=\"your-subscription-id\", \n",
    "    resource_group_name=\"your-resource-group\", \n",
    "    workspace_name=\"your-ml-workspace\"\n",
    ")\n",
    "\n",
    "# Define test input\n",
    "test_data = {\"data\": [[1, 2, 3, 4]]}\n",
    "\n",
    "# Send request to the endpoint\n",
    "response = ml_client.online_endpoints.invoke(\n",
    "    endpoint_name=\"mlflow-model-endpoint\",\n",
    "    request_body=test_data\n",
    ")\n",
    "\n",
    "print(\"Response: \", response)\n"
   ]
  }
 ],
 "metadata": {
  "language_info": {
   "name": "python"
  }
 },
 "nbformat": 4,
 "nbformat_minor": 2
}
